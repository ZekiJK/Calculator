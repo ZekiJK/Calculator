{
  "nbformat": 4,
  "nbformat_minor": 0,
  "metadata": {
    "colab": {
      "provenance": [],
      "collapsed_sections": [
        "icQ4OP6D0k06"
      ],
      "include_colab_link": true
    },
    "kernelspec": {
      "name": "python3",
      "display_name": "Python 3"
    },
    "language_info": {
      "name": "python"
    }
  },
  "cells": [
    {
      "cell_type": "markdown",
      "metadata": {
        "id": "view-in-github",
        "colab_type": "text"
      },
      "source": [
        "<a href=\"https://colab.research.google.com/github/ZekiJK/Calculator/blob/master/Numpy_tutorial_CECS456.ipynb\" target=\"_parent\"><img src=\"https://colab.research.google.com/assets/colab-badge.svg\" alt=\"Open In Colab\"/></a>"
      ]
    },
    {
      "cell_type": "markdown",
      "metadata": {
        "id": "3Z50hI2KV8Fl"
      },
      "source": [
        "##CECS 456 Numpy Tutorial"
      ]
    },
    {
      "cell_type": "code",
      "metadata": {
        "colab": {
          "base_uri": "https://localhost:8080/"
        },
        "id": "Lgnrn1AcV_0n",
        "outputId": "e0050257-6684-4e88-a4e6-a88f4e03a6f1"
      },
      "source": [
        "!python --version"
      ],
      "execution_count": null,
      "outputs": [
        {
          "output_type": "stream",
          "name": "stdout",
          "text": [
            "Python 3.7.11\n"
          ]
        }
      ]
    },
    {
      "cell_type": "code",
      "metadata": {
        "id": "HY1WQDWdWiac"
      },
      "source": [
        "import numpy as np"
      ],
      "execution_count": null,
      "outputs": []
    },
    {
      "cell_type": "markdown",
      "metadata": {
        "id": "MK-Q-9JaWxAf"
      },
      "source": [
        "##Arrays"
      ]
    },
    {
      "cell_type": "markdown",
      "metadata": {
        "id": "PtFCqlU3W08P"
      },
      "source": [
        "##1-D numpy arrays"
      ]
    },
    {
      "cell_type": "code",
      "metadata": {
        "colab": {
          "base_uri": "https://localhost:8080/"
        },
        "id": "awn9IgtUWzwp",
        "outputId": "447424f6-4e98-4408-9f0c-a72378744747"
      },
      "source": [
        "a = np.array([1, 2, 3, 4, 5]) #create a rank 1 array\n",
        "print(type(a))\n",
        "print(a.shape)\n",
        "print(a.dtype)"
      ],
      "execution_count": null,
      "outputs": [
        {
          "output_type": "stream",
          "name": "stdout",
          "text": [
            "<class 'numpy.ndarray'>\n",
            "(5,)\n",
            "int64\n"
          ]
        }
      ]
    },
    {
      "cell_type": "code",
      "metadata": {
        "colab": {
          "base_uri": "https://localhost:8080/"
        },
        "id": "NlR34dekXyaW",
        "outputId": "e7cd533f-f3c5-4f5e-ce20-59e4f0101086"
      },
      "source": [
        "print(a)"
      ],
      "execution_count": null,
      "outputs": [
        {
          "output_type": "stream",
          "name": "stdout",
          "text": [
            "[1 2 3 4 5]\n"
          ]
        }
      ]
    },
    {
      "cell_type": "code",
      "metadata": {
        "colab": {
          "base_uri": "https://localhost:8080/"
        },
        "id": "ZiaHOpNYX41q",
        "outputId": "1d6b09e8-33d2-460f-ccbf-ac9e05ab0509"
      },
      "source": [
        "print(a[:3])"
      ],
      "execution_count": null,
      "outputs": [
        {
          "output_type": "stream",
          "name": "stdout",
          "text": [
            "[1 2 3]\n"
          ]
        }
      ]
    },
    {
      "cell_type": "code",
      "metadata": {
        "colab": {
          "base_uri": "https://localhost:8080/"
        },
        "id": "b_VPZsSXYKvD",
        "outputId": "e40c4ff5-75cc-463d-de39-fb39561b8615"
      },
      "source": [
        "print(a[:4])"
      ],
      "execution_count": null,
      "outputs": [
        {
          "output_type": "stream",
          "name": "stdout",
          "text": [
            "[1 2 3 4]\n"
          ]
        }
      ]
    },
    {
      "cell_type": "code",
      "metadata": {
        "colab": {
          "base_uri": "https://localhost:8080/"
        },
        "id": "U6gAbVaSYTfr",
        "outputId": "42dee62f-b298-40f9-e0da-d087d7649c85"
      },
      "source": [
        "print(a[:-1])"
      ],
      "execution_count": null,
      "outputs": [
        {
          "output_type": "stream",
          "name": "stdout",
          "text": [
            "[1 2 3 4]\n"
          ]
        }
      ]
    },
    {
      "cell_type": "code",
      "metadata": {
        "colab": {
          "base_uri": "https://localhost:8080/"
        },
        "id": "zoeeQOKfY3jR",
        "outputId": "8ef6bf16-eb68-4aaf-caf8-abd4d0c2157c"
      },
      "source": [
        "print(a[:])"
      ],
      "execution_count": null,
      "outputs": [
        {
          "output_type": "stream",
          "name": "stdout",
          "text": [
            "[1 2 3 4 5]\n"
          ]
        }
      ]
    },
    {
      "cell_type": "code",
      "metadata": {
        "colab": {
          "base_uri": "https://localhost:8080/"
        },
        "id": "M5jAeLP8ZAdw",
        "outputId": "622bf9d8-a948-425e-de04-0ab75a638d52"
      },
      "source": [
        "print(a[2:4]) ## Get a slice from index 2 to 4 (exclusive)\n",
        "print(a[3:]) ##get a slice from index 3 to the end\n",
        "print(a[4:]) ##get a slice from index 4 to the end\n",
        "print(a[-1:]) ##get the last index"
      ],
      "execution_count": null,
      "outputs": [
        {
          "output_type": "stream",
          "name": "stdout",
          "text": [
            "[3 4]\n",
            "[4 5]\n",
            "[5]\n",
            "[5]\n"
          ]
        }
      ]
    },
    {
      "cell_type": "code",
      "metadata": {
        "colab": {
          "base_uri": "https://localhost:8080/"
        },
        "id": "xAEjymheaQAO",
        "outputId": "f563a14e-593b-4c23-8825-68ee9dd16d31"
      },
      "source": [
        "a = a / 5\n",
        "print(a)\n",
        "print(a.dtype)"
      ],
      "execution_count": null,
      "outputs": [
        {
          "output_type": "stream",
          "name": "stdout",
          "text": [
            "[0.2 0.4 0.6 0.8 1. ]\n",
            "float64\n"
          ]
        }
      ]
    },
    {
      "cell_type": "code",
      "metadata": {
        "colab": {
          "base_uri": "https://localhost:8080/"
        },
        "id": "mLTbLd8eacjX",
        "outputId": "eb1198fc-9a4a-4d25-d3f8-096493743e47"
      },
      "source": [
        "print(1-a)"
      ],
      "execution_count": null,
      "outputs": [
        {
          "output_type": "stream",
          "name": "stdout",
          "text": [
            "[0.8 0.6 0.4 0.2 0. ]\n"
          ]
        }
      ]
    },
    {
      "cell_type": "code",
      "metadata": {
        "colab": {
          "base_uri": "https://localhost:8080/"
        },
        "id": "GwYN_CMTaimy",
        "outputId": "e7028b98-538a-4e0c-c9fe-e42e383aa027"
      },
      "source": [
        "(1-a)**2"
      ],
      "execution_count": null,
      "outputs": [
        {
          "output_type": "execute_result",
          "data": {
            "text/plain": [
              "array([0.64, 0.36, 0.16, 0.04, 0.  ])"
            ]
          },
          "metadata": {},
          "execution_count": 12
        }
      ]
    },
    {
      "cell_type": "code",
      "metadata": {
        "colab": {
          "base_uri": "https://localhost:8080/"
        },
        "id": "ChvzIAzRapIs",
        "outputId": "0abe1bde-19e3-4a28-bcee-159b980122ca"
      },
      "source": [
        "b = a*(1-a)\n",
        "print(b)"
      ],
      "execution_count": null,
      "outputs": [
        {
          "output_type": "stream",
          "name": "stdout",
          "text": [
            "[0.16 0.24 0.24 0.16 0.  ]\n"
          ]
        }
      ]
    },
    {
      "cell_type": "code",
      "metadata": {
        "colab": {
          "base_uri": "https://localhost:8080/"
        },
        "id": "RWQO8dRPbEd7",
        "outputId": "c7073151-9aa5-4b2c-ea21-ee4977cba8c9"
      },
      "source": [
        "np.dot(a,(1-a)) #inner product of two vectors"
      ],
      "execution_count": null,
      "outputs": [
        {
          "output_type": "execute_result",
          "data": {
            "text/plain": [
              "0.7999999999999999"
            ]
          },
          "metadata": {},
          "execution_count": 14
        }
      ]
    },
    {
      "cell_type": "code",
      "metadata": {
        "colab": {
          "base_uri": "https://localhost:8080/"
        },
        "id": "d8LJmMTtbWNG",
        "outputId": "b6792115-79fd-4acd-c935-431df00b2b04"
      },
      "source": [
        "a.dot(1-a)"
      ],
      "execution_count": null,
      "outputs": [
        {
          "output_type": "execute_result",
          "data": {
            "text/plain": [
              "0.7999999999999999"
            ]
          },
          "metadata": {},
          "execution_count": 15
        }
      ]
    },
    {
      "cell_type": "code",
      "metadata": {
        "colab": {
          "base_uri": "https://localhost:8080/"
        },
        "id": "fdndISUfbcXD",
        "outputId": "1cd3d708-9da0-48af-be07-e5a320b2e372"
      },
      "source": [
        "sum(b)"
      ],
      "execution_count": null,
      "outputs": [
        {
          "output_type": "execute_result",
          "data": {
            "text/plain": [
              "0.8"
            ]
          },
          "metadata": {},
          "execution_count": 16
        }
      ]
    },
    {
      "cell_type": "markdown",
      "metadata": {
        "id": "tjt97ElRbkxd"
      },
      "source": [
        "##2-d numpy arrays"
      ]
    },
    {
      "cell_type": "code",
      "metadata": {
        "colab": {
          "base_uri": "https://localhost:8080/"
        },
        "id": "3YujwLOlbnzh",
        "outputId": "f40f84b2-545a-49f7-ad0c-f0135ee3b9f6"
      },
      "source": [
        "b = np.array([[1,2,3],[4,5,6]]) ##create a rank 2 array\n",
        "print(b)"
      ],
      "execution_count": null,
      "outputs": [
        {
          "output_type": "stream",
          "name": "stdout",
          "text": [
            "[[1 2 3]\n",
            " [4 5 6]]\n"
          ]
        }
      ]
    },
    {
      "cell_type": "code",
      "metadata": {
        "colab": {
          "base_uri": "https://localhost:8080/"
        },
        "id": "zc4Z_KFucFxW",
        "outputId": "4ffad53e-eb7f-462f-c731-b972236553c6"
      },
      "source": [
        "print(b.shape)"
      ],
      "execution_count": null,
      "outputs": [
        {
          "output_type": "stream",
          "name": "stdout",
          "text": [
            "(2, 3)\n"
          ]
        }
      ]
    },
    {
      "cell_type": "code",
      "metadata": {
        "colab": {
          "base_uri": "https://localhost:8080/"
        },
        "id": "Q_lfLGEJceL7",
        "outputId": "844f56e4-edf5-4dfd-9f71-9d89ae52796a"
      },
      "source": [
        "print(b[0,0],b[0,1],b[1,0])"
      ],
      "execution_count": null,
      "outputs": [
        {
          "output_type": "stream",
          "name": "stdout",
          "text": [
            "1 2 4\n"
          ]
        }
      ]
    },
    {
      "cell_type": "markdown",
      "metadata": {
        "id": "hPWe4-X_0agf"
      },
      "source": [
        "#Slicing\n"
      ]
    },
    {
      "cell_type": "markdown",
      "metadata": {
        "id": "Q19u8Hu_0eu1"
      },
      "source": [
        "In addition to accessing list elements one at a time, Python provides concise syntax to access sublists; this is known as slicing:"
      ]
    },
    {
      "cell_type": "code",
      "metadata": {
        "id": "6ZX--l7J1ytK",
        "colab": {
          "base_uri": "https://localhost:8080/"
        },
        "outputId": "883deaab-342e-4726-fdc6-081071579309"
      },
      "source": [
        "nums = list(range(5))\n",
        "print(nums)"
      ],
      "execution_count": null,
      "outputs": [
        {
          "output_type": "stream",
          "name": "stdout",
          "text": [
            "[0, 1, 2, 3, 4]\n"
          ]
        }
      ]
    },
    {
      "cell_type": "code",
      "metadata": {
        "colab": {
          "base_uri": "https://localhost:8080/"
        },
        "id": "ESpdauvyfvKT",
        "outputId": "e38922fd-b92d-433f-b389-f7b727719a6b"
      },
      "source": [
        "print(nums[2:4]) #get a slice from index 2 to 4(exclusive)"
      ],
      "execution_count": null,
      "outputs": [
        {
          "output_type": "stream",
          "name": "stdout",
          "text": [
            "[2, 3]\n"
          ]
        }
      ]
    },
    {
      "cell_type": "code",
      "metadata": {
        "colab": {
          "base_uri": "https://localhost:8080/"
        },
        "id": "X1IxenrggAeL",
        "outputId": "0649357e-a88f-4a29-a8e6-a33486c73cd1"
      },
      "source": [
        "print(nums[2:])"
      ],
      "execution_count": null,
      "outputs": [
        {
          "output_type": "stream",
          "name": "stdout",
          "text": [
            "[2, 3, 4]\n"
          ]
        }
      ]
    },
    {
      "cell_type": "code",
      "metadata": {
        "colab": {
          "base_uri": "https://localhost:8080/"
        },
        "id": "V9RvVuFagJgN",
        "outputId": "dff21f91-f0a8-4d5e-e35f-dc577548cdbb"
      },
      "source": [
        "print(nums[:2])"
      ],
      "execution_count": null,
      "outputs": [
        {
          "output_type": "stream",
          "name": "stdout",
          "text": [
            "[0, 1]\n"
          ]
        }
      ]
    },
    {
      "cell_type": "code",
      "metadata": {
        "colab": {
          "base_uri": "https://localhost:8080/"
        },
        "id": "fOQr4F_YgaBg",
        "outputId": "e4155119-21e5-46cf-8873-f4adca887ea3"
      },
      "source": [
        "print(nums[:])"
      ],
      "execution_count": null,
      "outputs": [
        {
          "output_type": "stream",
          "name": "stdout",
          "text": [
            "[0, 1, 2, 3, 4]\n"
          ]
        }
      ]
    },
    {
      "cell_type": "code",
      "metadata": {
        "colab": {
          "base_uri": "https://localhost:8080/"
        },
        "id": "M2b-jEseghJ7",
        "outputId": "e28f5d39-f98c-4f94-f8d2-88f336b33561"
      },
      "source": [
        "print(nums[:-1])"
      ],
      "execution_count": null,
      "outputs": [
        {
          "output_type": "stream",
          "name": "stdout",
          "text": [
            "[0, 1, 2, 3]\n"
          ]
        }
      ]
    },
    {
      "cell_type": "code",
      "metadata": {
        "colab": {
          "base_uri": "https://localhost:8080/"
        },
        "id": "BVR2GLcQgs22",
        "outputId": "9b577476-eb95-40c5-ebb1-4134e95a6576"
      },
      "source": [
        "nums[2:4] = [8, 9] # assign a new sublist to a slice\n",
        "print(nums)"
      ],
      "execution_count": null,
      "outputs": [
        {
          "output_type": "stream",
          "name": "stdout",
          "text": [
            "[0, 1, 8, 9, 4]\n"
          ]
        }
      ]
    },
    {
      "cell_type": "markdown",
      "metadata": {
        "id": "icQ4OP6D0k06"
      },
      "source": [
        "##array indexing\n"
      ]
    },
    {
      "cell_type": "code",
      "metadata": {
        "id": "uOH8W2Ct2SRw",
        "colab": {
          "base_uri": "https://localhost:8080/"
        },
        "outputId": "daed3eb0-4559-4a50-c559-0323e8f00971"
      },
      "source": [
        "## Create the following rank 2 array with shape (3, 4)\n",
        "# [[ 1  2  3  4]\n",
        "#  [ 5  6  7  8]\n",
        "#  [ 9 10 11 12]]\n",
        "a = np.array([[1, 2, 3, 4], [5 , 6, 7, 8], [9, 10, 11, 12]])\n",
        "print(a)"
      ],
      "execution_count": null,
      "outputs": [
        {
          "output_type": "stream",
          "name": "stdout",
          "text": [
            "[[ 1  2  3  4]\n",
            " [ 5  6  7  8]\n",
            " [ 9 10 11 12]]\n"
          ]
        }
      ]
    },
    {
      "cell_type": "code",
      "metadata": {
        "id": "SE_Q2vbN2Xvv",
        "colab": {
          "base_uri": "https://localhost:8080/"
        },
        "outputId": "391b2eb3-762d-4c09-d28d-b445e642b8fe"
      },
      "source": [
        "# Use slicing to pull out the subarray consisting of the first 2 rows\n",
        "# and columns 1 and 2; b is the following array of shape (2, 2):\n",
        "# [[2 3]\n",
        "#  [6 7]]\n",
        "b = a[:2 , 1:3]\n",
        "print(b)"
      ],
      "execution_count": null,
      "outputs": [
        {
          "output_type": "stream",
          "name": "stdout",
          "text": [
            "[[2 3]\n",
            " [6 7]]\n"
          ]
        }
      ]
    },
    {
      "cell_type": "markdown",
      "metadata": {
        "id": "B7dAQLwJ2gDh"
      },
      "source": [
        "A slice of an array is a view into the same data, so modifying it will modify the original array."
      ]
    },
    {
      "cell_type": "code",
      "metadata": {
        "id": "yW6j1Kot2jM1",
        "colab": {
          "base_uri": "https://localhost:8080/"
        },
        "outputId": "b077e90f-703a-430b-ea53-827f045b5223"
      },
      "source": [
        "print(a[0,1])\n",
        "b[0,0] = 77\n",
        "print(a[0,1])"
      ],
      "execution_count": null,
      "outputs": [
        {
          "output_type": "stream",
          "name": "stdout",
          "text": [
            "2\n",
            "77\n"
          ]
        }
      ]
    },
    {
      "cell_type": "markdown",
      "metadata": {
        "id": "EZpGBx452mt6"
      },
      "source": [
        "You can also mix integer indexing with slice indexing. However, doing so will yield an array of lower rank than the original array. Note that this is quite different from the way that MATLAB handles array slicing:"
      ]
    },
    {
      "cell_type": "code",
      "metadata": {
        "id": "39dSnIHt2neN",
        "colab": {
          "base_uri": "https://localhost:8080/"
        },
        "outputId": "0f6c6b6e-757a-48fb-8c58-0de08a79fbc3"
      },
      "source": [
        "# create a rank 2 array with shape (3,4)\n",
        "a = np.array([[1,2,3,4],[5,6,7,8],[9,10,11,12]])\n",
        "print(a)"
      ],
      "execution_count": null,
      "outputs": [
        {
          "output_type": "stream",
          "name": "stdout",
          "text": [
            "[[ 1  2  3  4]\n",
            " [ 5  6  7  8]\n",
            " [ 9 10 11 12]]\n"
          ]
        }
      ]
    },
    {
      "cell_type": "markdown",
      "metadata": {
        "id": "7nMxUg6q2qdc"
      },
      "source": [
        "Two ways of accessing the data in the middle row of the array. Mixing integer indexing with slices yields an array of lower rank, while using only slices yields an array of the same rank as the original array:"
      ]
    },
    {
      "cell_type": "code",
      "metadata": {
        "id": "r9weWanc2rN1",
        "colab": {
          "base_uri": "https://localhost:8080/"
        },
        "outputId": "bec46135-d9f1-4e1a-9468-97f2999eb5f2"
      },
      "source": [
        "row_r1 = a[1, :]\n",
        "row_r2 = a[1:2 , :]\n",
        "row_r3 = a[[1], :]\n",
        "print(row_r1, row_r1.shape)\n",
        "print(row_r2, row_r2.shape)\n",
        "print(row_r3, row_r3.shape)"
      ],
      "execution_count": null,
      "outputs": [
        {
          "output_type": "stream",
          "name": "stdout",
          "text": [
            "[5 6 7 8] (4,)\n",
            "[[5 6 7 8]] (1, 4)\n",
            "[[5 6 7 8]] (1, 4)\n"
          ]
        }
      ]
    },
    {
      "cell_type": "code",
      "metadata": {
        "colab": {
          "base_uri": "https://localhost:8080/"
        },
        "id": "KsRJI4vSlPeA",
        "outputId": "cf42c3fa-b997-49e3-b0be-d5af01a815cc"
      },
      "source": [
        "col_r1 = a[:, 1]\n",
        "col_r2 = a[:, 1:2]\n",
        "print(col_r1, col_r1.shape)\n",
        "print()\n",
        "print(col_r2, col_r2.shape)"
      ],
      "execution_count": null,
      "outputs": [
        {
          "output_type": "stream",
          "name": "stdout",
          "text": [
            "[ 2  6 10] (3,)\n",
            "\n",
            "[[ 2]\n",
            " [ 6]\n",
            " [10]] (3, 1)\n"
          ]
        }
      ]
    },
    {
      "cell_type": "code",
      "metadata": {
        "colab": {
          "base_uri": "https://localhost:8080/"
        },
        "id": "w01aAMPIl-qH",
        "outputId": "68b90c29-9c20-4a1e-99ef-75fe2ee39bb4"
      },
      "source": [
        "a = np.array([[1,2],[3,4],[5,6]])\n",
        "\n",
        "print(a)\n",
        "print()\n",
        "print(a[[0, 1, 2], [0, 1, 0]])\n"
      ],
      "execution_count": null,
      "outputs": [
        {
          "output_type": "stream",
          "name": "stdout",
          "text": [
            "[[1 2]\n",
            " [3 4]\n",
            " [5 6]]\n",
            "\n",
            "[1 4 5]\n"
          ]
        }
      ]
    },
    {
      "cell_type": "code",
      "metadata": {
        "colab": {
          "base_uri": "https://localhost:8080/"
        },
        "id": "j_7BglP1m-pI",
        "outputId": "0e11d299-eb7a-47b0-b87f-f9e072ee3a3b"
      },
      "source": [
        "print(np.array([a[0,0], a[1, 1], a[2, 0]]))"
      ],
      "execution_count": null,
      "outputs": [
        {
          "output_type": "stream",
          "name": "stdout",
          "text": [
            "[1 4 5]\n"
          ]
        }
      ]
    },
    {
      "cell_type": "markdown",
      "metadata": {
        "id": "bVIxENeS1eDH"
      },
      "source": [
        "#Initializations\n"
      ]
    },
    {
      "cell_type": "code",
      "metadata": {
        "id": "fapQ5p8w3RF6",
        "colab": {
          "base_uri": "https://localhost:8080/"
        },
        "outputId": "ecd74300-d58f-4267-db62-5fadc6d52a01"
      },
      "source": [
        "np.zeros((10,10))   #create array with all zeros"
      ],
      "execution_count": null,
      "outputs": [
        {
          "output_type": "execute_result",
          "data": {
            "text/plain": [
              "array([[0., 0., 0., 0., 0., 0., 0., 0., 0., 0.],\n",
              "       [0., 0., 0., 0., 0., 0., 0., 0., 0., 0.],\n",
              "       [0., 0., 0., 0., 0., 0., 0., 0., 0., 0.],\n",
              "       [0., 0., 0., 0., 0., 0., 0., 0., 0., 0.],\n",
              "       [0., 0., 0., 0., 0., 0., 0., 0., 0., 0.],\n",
              "       [0., 0., 0., 0., 0., 0., 0., 0., 0., 0.],\n",
              "       [0., 0., 0., 0., 0., 0., 0., 0., 0., 0.],\n",
              "       [0., 0., 0., 0., 0., 0., 0., 0., 0., 0.],\n",
              "       [0., 0., 0., 0., 0., 0., 0., 0., 0., 0.],\n",
              "       [0., 0., 0., 0., 0., 0., 0., 0., 0., 0.]])"
            ]
          },
          "metadata": {},
          "execution_count": 44
        }
      ]
    },
    {
      "cell_type": "code",
      "metadata": {
        "colab": {
          "base_uri": "https://localhost:8080/"
        },
        "id": "D3Mspvv5nkZg",
        "outputId": "46adbe56-b8c4-48c4-b608-7e1f52fc9d82"
      },
      "source": [
        "np.ones((10,10)) # create array with all ones"
      ],
      "execution_count": null,
      "outputs": [
        {
          "output_type": "execute_result",
          "data": {
            "text/plain": [
              "array([[1., 1., 1., 1., 1., 1., 1., 1., 1., 1.],\n",
              "       [1., 1., 1., 1., 1., 1., 1., 1., 1., 1.],\n",
              "       [1., 1., 1., 1., 1., 1., 1., 1., 1., 1.],\n",
              "       [1., 1., 1., 1., 1., 1., 1., 1., 1., 1.],\n",
              "       [1., 1., 1., 1., 1., 1., 1., 1., 1., 1.],\n",
              "       [1., 1., 1., 1., 1., 1., 1., 1., 1., 1.],\n",
              "       [1., 1., 1., 1., 1., 1., 1., 1., 1., 1.],\n",
              "       [1., 1., 1., 1., 1., 1., 1., 1., 1., 1.],\n",
              "       [1., 1., 1., 1., 1., 1., 1., 1., 1., 1.],\n",
              "       [1., 1., 1., 1., 1., 1., 1., 1., 1., 1.]])"
            ]
          },
          "metadata": {},
          "execution_count": 45
        }
      ]
    },
    {
      "cell_type": "code",
      "metadata": {
        "colab": {
          "base_uri": "https://localhost:8080/"
        },
        "id": "ZI5j3qWbnuGR",
        "outputId": "f4b17007-6e68-4738-fa3a-25c433fc5fc5"
      },
      "source": [
        "np.full((10,10), 3.14)"
      ],
      "execution_count": null,
      "outputs": [
        {
          "output_type": "execute_result",
          "data": {
            "text/plain": [
              "array([[3.14, 3.14, 3.14, 3.14, 3.14, 3.14, 3.14, 3.14, 3.14, 3.14],\n",
              "       [3.14, 3.14, 3.14, 3.14, 3.14, 3.14, 3.14, 3.14, 3.14, 3.14],\n",
              "       [3.14, 3.14, 3.14, 3.14, 3.14, 3.14, 3.14, 3.14, 3.14, 3.14],\n",
              "       [3.14, 3.14, 3.14, 3.14, 3.14, 3.14, 3.14, 3.14, 3.14, 3.14],\n",
              "       [3.14, 3.14, 3.14, 3.14, 3.14, 3.14, 3.14, 3.14, 3.14, 3.14],\n",
              "       [3.14, 3.14, 3.14, 3.14, 3.14, 3.14, 3.14, 3.14, 3.14, 3.14],\n",
              "       [3.14, 3.14, 3.14, 3.14, 3.14, 3.14, 3.14, 3.14, 3.14, 3.14],\n",
              "       [3.14, 3.14, 3.14, 3.14, 3.14, 3.14, 3.14, 3.14, 3.14, 3.14],\n",
              "       [3.14, 3.14, 3.14, 3.14, 3.14, 3.14, 3.14, 3.14, 3.14, 3.14],\n",
              "       [3.14, 3.14, 3.14, 3.14, 3.14, 3.14, 3.14, 3.14, 3.14, 3.14]])"
            ]
          },
          "metadata": {},
          "execution_count": 46
        }
      ]
    },
    {
      "cell_type": "code",
      "metadata": {
        "colab": {
          "base_uri": "https://localhost:8080/"
        },
        "id": "vqo7OcfEn8y3",
        "outputId": "6bc50706-d83a-43cc-851e-7818ef29b84f"
      },
      "source": [
        "#identity matrix\n",
        "I = np.eye(10)\n",
        "print(I)"
      ],
      "execution_count": null,
      "outputs": [
        {
          "output_type": "stream",
          "name": "stdout",
          "text": [
            "[[1. 0. 0. 0. 0. 0. 0. 0. 0. 0.]\n",
            " [0. 1. 0. 0. 0. 0. 0. 0. 0. 0.]\n",
            " [0. 0. 1. 0. 0. 0. 0. 0. 0. 0.]\n",
            " [0. 0. 0. 1. 0. 0. 0. 0. 0. 0.]\n",
            " [0. 0. 0. 0. 1. 0. 0. 0. 0. 0.]\n",
            " [0. 0. 0. 0. 0. 1. 0. 0. 0. 0.]\n",
            " [0. 0. 0. 0. 0. 0. 1. 0. 0. 0.]\n",
            " [0. 0. 0. 0. 0. 0. 0. 1. 0. 0.]\n",
            " [0. 0. 0. 0. 0. 0. 0. 0. 1. 0.]\n",
            " [0. 0. 0. 0. 0. 0. 0. 0. 0. 1.]]\n"
          ]
        }
      ]
    },
    {
      "cell_type": "code",
      "metadata": {
        "colab": {
          "base_uri": "https://localhost:8080/"
        },
        "id": "r4mStIQloIkz",
        "outputId": "19253dd8-d107-46e2-d90e-dbb6255e3b70"
      },
      "source": [
        "A = np.asarray([[j for j in range(i*10, (i+1)*10)] for i in range(10)]) #Convert the input to an array.\n",
        "print(A)"
      ],
      "execution_count": null,
      "outputs": [
        {
          "output_type": "stream",
          "name": "stdout",
          "text": [
            "[[ 0  1  2  3  4  5  6  7  8  9]\n",
            " [10 11 12 13 14 15 16 17 18 19]\n",
            " [20 21 22 23 24 25 26 27 28 29]\n",
            " [30 31 32 33 34 35 36 37 38 39]\n",
            " [40 41 42 43 44 45 46 47 48 49]\n",
            " [50 51 52 53 54 55 56 57 58 59]\n",
            " [60 61 62 63 64 65 66 67 68 69]\n",
            " [70 71 72 73 74 75 76 77 78 79]\n",
            " [80 81 82 83 84 85 86 87 88 89]\n",
            " [90 91 92 93 94 95 96 97 98 99]]\n"
          ]
        }
      ]
    },
    {
      "cell_type": "code",
      "metadata": {
        "colab": {
          "base_uri": "https://localhost:8080/"
        },
        "id": "gWBEP68ro0IZ",
        "outputId": "71222090-d3bd-4b5e-95c9-081151ebff69"
      },
      "source": [
        "B = np.matmul(A,I)\n",
        "print(B)"
      ],
      "execution_count": null,
      "outputs": [
        {
          "output_type": "stream",
          "name": "stdout",
          "text": [
            "[[ 0.  1.  2.  3.  4.  5.  6.  7.  8.  9.]\n",
            " [10. 11. 12. 13. 14. 15. 16. 17. 18. 19.]\n",
            " [20. 21. 22. 23. 24. 25. 26. 27. 28. 29.]\n",
            " [30. 31. 32. 33. 34. 35. 36. 37. 38. 39.]\n",
            " [40. 41. 42. 43. 44. 45. 46. 47. 48. 49.]\n",
            " [50. 51. 52. 53. 54. 55. 56. 57. 58. 59.]\n",
            " [60. 61. 62. 63. 64. 65. 66. 67. 68. 69.]\n",
            " [70. 71. 72. 73. 74. 75. 76. 77. 78. 79.]\n",
            " [80. 81. 82. 83. 84. 85. 86. 87. 88. 89.]\n",
            " [90. 91. 92. 93. 94. 95. 96. 97. 98. 99.]]\n"
          ]
        }
      ]
    },
    {
      "cell_type": "code",
      "metadata": {
        "colab": {
          "base_uri": "https://localhost:8080/"
        },
        "id": "9xBqcxaTo97x",
        "outputId": "c76e1977-1454-4eb0-896a-9e6f674f4a1e"
      },
      "source": [
        "C = np.matmul(I,A)\n",
        "print(C)"
      ],
      "execution_count": null,
      "outputs": [
        {
          "output_type": "stream",
          "name": "stdout",
          "text": [
            "[[ 0.  1.  2.  3.  4.  5.  6.  7.  8.  9.]\n",
            " [10. 11. 12. 13. 14. 15. 16. 17. 18. 19.]\n",
            " [20. 21. 22. 23. 24. 25. 26. 27. 28. 29.]\n",
            " [30. 31. 32. 33. 34. 35. 36. 37. 38. 39.]\n",
            " [40. 41. 42. 43. 44. 45. 46. 47. 48. 49.]\n",
            " [50. 51. 52. 53. 54. 55. 56. 57. 58. 59.]\n",
            " [60. 61. 62. 63. 64. 65. 66. 67. 68. 69.]\n",
            " [70. 71. 72. 73. 74. 75. 76. 77. 78. 79.]\n",
            " [80. 81. 82. 83. 84. 85. 86. 87. 88. 89.]\n",
            " [90. 91. 92. 93. 94. 95. 96. 97. 98. 99.]]\n"
          ]
        }
      ]
    },
    {
      "cell_type": "code",
      "metadata": {
        "colab": {
          "base_uri": "https://localhost:8080/"
        },
        "id": "S9id1SXSpGL_",
        "outputId": "6437fe72-a33b-46e5-8c4b-f05350deb3e8"
      },
      "source": [
        "e = np.random.random((2,2))\n",
        "print(e)"
      ],
      "execution_count": null,
      "outputs": [
        {
          "output_type": "stream",
          "name": "stdout",
          "text": [
            "[[0.92354999 0.77667112]\n",
            " [0.42117485 0.23958804]]\n"
          ]
        }
      ]
    },
    {
      "cell_type": "markdown",
      "metadata": {
        "id": "korsgxTS3cKK"
      },
      "source": [
        "#Conditionals"
      ]
    },
    {
      "cell_type": "code",
      "metadata": {
        "id": "E3P5M1wd3e13",
        "colab": {
          "base_uri": "https://localhost:8080/"
        },
        "outputId": "953d5909-2907-44de-cd7f-1161fd8c2654"
      },
      "source": [
        "print(A)"
      ],
      "execution_count": null,
      "outputs": [
        {
          "output_type": "stream",
          "name": "stdout",
          "text": [
            "[[ 0  1  2  3  4  5  6  7  8  9]\n",
            " [10 11 12 13 14 15 16 17 18 19]\n",
            " [20 21 22 23 24 25 26 27 28 29]\n",
            " [30 31 32 33 34 35 36 37 38 39]\n",
            " [40 41 42 43 44 45 46 47 48 49]\n",
            " [50 51 52 53 54 55 56 57 58 59]\n",
            " [60 61 62 63 64 65 66 67 68 69]\n",
            " [70 71 72 73 74 75 76 77 78 79]\n",
            " [80 81 82 83 84 85 86 87 88 89]\n",
            " [90 91 92 93 94 95 96 97 98 99]]\n"
          ]
        }
      ]
    },
    {
      "cell_type": "code",
      "metadata": {
        "colab": {
          "base_uri": "https://localhost:8080/"
        },
        "id": "kUMgliJMpR78",
        "outputId": "ec8c6cf1-2094-4009-f54d-929eae482d0a"
      },
      "source": [
        "print(B)"
      ],
      "execution_count": null,
      "outputs": [
        {
          "output_type": "stream",
          "name": "stdout",
          "text": [
            "[[ 0.  1.  2.  3.  4.  5.  6.  7.  8.  9.]\n",
            " [10. 11. 12. 13. 14. 15. 16. 17. 18. 19.]\n",
            " [20. 21. 22. 23. 24. 25. 26. 27. 28. 29.]\n",
            " [30. 31. 32. 33. 34. 35. 36. 37. 38. 39.]\n",
            " [40. 41. 42. 43. 44. 45. 46. 47. 48. 49.]\n",
            " [50. 51. 52. 53. 54. 55. 56. 57. 58. 59.]\n",
            " [60. 61. 62. 63. 64. 65. 66. 67. 68. 69.]\n",
            " [70. 71. 72. 73. 74. 75. 76. 77. 78. 79.]\n",
            " [80. 81. 82. 83. 84. 85. 86. 87. 88. 89.]\n",
            " [90. 91. 92. 93. 94. 95. 96. 97. 98. 99.]]\n"
          ]
        }
      ]
    },
    {
      "cell_type": "code",
      "metadata": {
        "colab": {
          "base_uri": "https://localhost:8080/"
        },
        "id": "7U4BjI55pWAV",
        "outputId": "1928d9a9-ea41-4d71-bc8b-dc3556f01a10"
      },
      "source": [
        "A == B"
      ],
      "execution_count": null,
      "outputs": [
        {
          "output_type": "execute_result",
          "data": {
            "text/plain": [
              "array([[ True,  True,  True,  True,  True,  True,  True,  True,  True,\n",
              "         True],\n",
              "       [ True,  True,  True,  True,  True,  True,  True,  True,  True,\n",
              "         True],\n",
              "       [ True,  True,  True,  True,  True,  True,  True,  True,  True,\n",
              "         True],\n",
              "       [ True,  True,  True,  True,  True,  True,  True,  True,  True,\n",
              "         True],\n",
              "       [ True,  True,  True,  True,  True,  True,  True,  True,  True,\n",
              "         True],\n",
              "       [ True,  True,  True,  True,  True,  True,  True,  True,  True,\n",
              "         True],\n",
              "       [ True,  True,  True,  True,  True,  True,  True,  True,  True,\n",
              "         True],\n",
              "       [ True,  True,  True,  True,  True,  True,  True,  True,  True,\n",
              "         True],\n",
              "       [ True,  True,  True,  True,  True,  True,  True,  True,  True,\n",
              "         True],\n",
              "       [ True,  True,  True,  True,  True,  True,  True,  True,  True,\n",
              "         True]])"
            ]
          },
          "metadata": {},
          "execution_count": 54
        }
      ]
    },
    {
      "cell_type": "code",
      "metadata": {
        "colab": {
          "base_uri": "https://localhost:8080/"
        },
        "id": "CarDGTbApd0J",
        "outputId": "0a854612-e0b0-4108-b171-a80dc9196ec6"
      },
      "source": [
        "B == C"
      ],
      "execution_count": null,
      "outputs": [
        {
          "output_type": "execute_result",
          "data": {
            "text/plain": [
              "array([[ True,  True,  True,  True,  True,  True,  True,  True,  True,\n",
              "         True],\n",
              "       [ True,  True,  True,  True,  True,  True,  True,  True,  True,\n",
              "         True],\n",
              "       [ True,  True,  True,  True,  True,  True,  True,  True,  True,\n",
              "         True],\n",
              "       [ True,  True,  True,  True,  True,  True,  True,  True,  True,\n",
              "         True],\n",
              "       [ True,  True,  True,  True,  True,  True,  True,  True,  True,\n",
              "         True],\n",
              "       [ True,  True,  True,  True,  True,  True,  True,  True,  True,\n",
              "         True],\n",
              "       [ True,  True,  True,  True,  True,  True,  True,  True,  True,\n",
              "         True],\n",
              "       [ True,  True,  True,  True,  True,  True,  True,  True,  True,\n",
              "         True],\n",
              "       [ True,  True,  True,  True,  True,  True,  True,  True,  True,\n",
              "         True],\n",
              "       [ True,  True,  True,  True,  True,  True,  True,  True,  True,\n",
              "         True]])"
            ]
          },
          "metadata": {},
          "execution_count": 55
        }
      ]
    },
    {
      "cell_type": "code",
      "metadata": {
        "colab": {
          "base_uri": "https://localhost:8080/"
        },
        "id": "P-d1C1F5phjZ",
        "outputId": "3b4f3a09-2516-408b-a0f7-7216ae3170e6"
      },
      "source": [
        "bool_idx = (A > 50)\n",
        "print(bool_idx)"
      ],
      "execution_count": null,
      "outputs": [
        {
          "output_type": "stream",
          "name": "stdout",
          "text": [
            "[[False False False False False False False False False False]\n",
            " [False False False False False False False False False False]\n",
            " [False False False False False False False False False False]\n",
            " [False False False False False False False False False False]\n",
            " [False False False False False False False False False False]\n",
            " [False  True  True  True  True  True  True  True  True  True]\n",
            " [ True  True  True  True  True  True  True  True  True  True]\n",
            " [ True  True  True  True  True  True  True  True  True  True]\n",
            " [ True  True  True  True  True  True  True  True  True  True]\n",
            " [ True  True  True  True  True  True  True  True  True  True]]\n"
          ]
        }
      ]
    },
    {
      "cell_type": "code",
      "metadata": {
        "colab": {
          "base_uri": "https://localhost:8080/"
        },
        "id": "1Vw5venRp-J_",
        "outputId": "ff66d4c8-8173-48d6-d5d0-1d535a7be207"
      },
      "source": [
        "print(A)"
      ],
      "execution_count": null,
      "outputs": [
        {
          "output_type": "stream",
          "name": "stdout",
          "text": [
            "[[ 0  1  2  3  4  5  6  7  8  9]\n",
            " [10 11 12 13 14 15 16 17 18 19]\n",
            " [20 21 22 23 24 25 26 27 28 29]\n",
            " [30 31 32 33 34 35 36 37 38 39]\n",
            " [40 41 42 43 44 45 46 47 48 49]\n",
            " [50 51 52 53 54 55 56 57 58 59]\n",
            " [60 61 62 63 64 65 66 67 68 69]\n",
            " [70 71 72 73 74 75 76 77 78 79]\n",
            " [80 81 82 83 84 85 86 87 88 89]\n",
            " [90 91 92 93 94 95 96 97 98 99]]\n"
          ]
        }
      ]
    },
    {
      "cell_type": "code",
      "metadata": {
        "colab": {
          "base_uri": "https://localhost:8080/"
        },
        "id": "v25mDZBsp3H5",
        "outputId": "bf1b81cb-6a65-4d4c-e82a-99f6140ee4ca"
      },
      "source": [
        "D = np.transpose(A)\n",
        "print(D)"
      ],
      "execution_count": null,
      "outputs": [
        {
          "output_type": "stream",
          "name": "stdout",
          "text": [
            "[[ 0 10 20 30 40 50 60 70 80 90]\n",
            " [ 1 11 21 31 41 51 61 71 81 91]\n",
            " [ 2 12 22 32 42 52 62 72 82 92]\n",
            " [ 3 13 23 33 43 53 63 73 83 93]\n",
            " [ 4 14 24 34 44 54 64 74 84 94]\n",
            " [ 5 15 25 35 45 55 65 75 85 95]\n",
            " [ 6 16 26 36 46 56 66 76 86 96]\n",
            " [ 7 17 27 37 47 57 67 77 87 97]\n",
            " [ 8 18 28 38 48 58 68 78 88 98]\n",
            " [ 9 19 29 39 49 59 69 79 89 99]]\n"
          ]
        }
      ]
    },
    {
      "cell_type": "markdown",
      "metadata": {
        "id": "IzGNz1pG04zs"
      },
      "source": [
        "#Broadcasting"
      ]
    },
    {
      "cell_type": "markdown",
      "metadata": {
        "id": "vAqhK0Gd3MVH"
      },
      "source": [
        "Broadcasting is a powerful mechanism that allows numpy to work with arrays of different shapes when performing arithmetic operations. Frequently we have a smaller array and a larger array, and we want to use the smaller array multiple times to perform some operation on the larger array."
      ]
    },
    {
      "cell_type": "code",
      "metadata": {
        "id": "dD7DPRtN3NJI",
        "colab": {
          "base_uri": "https://localhost:8080/"
        },
        "outputId": "0f0564a9-80af-4ae6-e4fc-b906461cb234"
      },
      "source": [
        "# We will add the vector x to each row of the matrix A,\n",
        "# storing the result in the matrix E\n",
        "x = np.array([10,20,30,40,50,60,70,80,90,100])\n",
        "E = A + x\n",
        "print(A)\n",
        "print(E)"
      ],
      "execution_count": null,
      "outputs": [
        {
          "output_type": "stream",
          "name": "stdout",
          "text": [
            "[[ 0  1  2  3  4  5  6  7  8  9]\n",
            " [10 11 12 13 14 15 16 17 18 19]\n",
            " [20 21 22 23 24 25 26 27 28 29]\n",
            " [30 31 32 33 34 35 36 37 38 39]\n",
            " [40 41 42 43 44 45 46 47 48 49]\n",
            " [50 51 52 53 54 55 56 57 58 59]\n",
            " [60 61 62 63 64 65 66 67 68 69]\n",
            " [70 71 72 73 74 75 76 77 78 79]\n",
            " [80 81 82 83 84 85 86 87 88 89]\n",
            " [90 91 92 93 94 95 96 97 98 99]]\n",
            "[[ 10  21  32  43  54  65  76  87  98 109]\n",
            " [ 20  31  42  53  64  75  86  97 108 119]\n",
            " [ 30  41  52  63  74  85  96 107 118 129]\n",
            " [ 40  51  62  73  84  95 106 117 128 139]\n",
            " [ 50  61  72  83  94 105 116 127 138 149]\n",
            " [ 60  71  82  93 104 115 126 137 148 159]\n",
            " [ 70  81  92 103 114 125 136 147 158 169]\n",
            " [ 80  91 102 113 124 135 146 157 168 179]\n",
            " [ 90 101 112 123 134 145 156 167 178 189]\n",
            " [100 111 122 133 144 155 166 177 188 199]]\n"
          ]
        }
      ]
    },
    {
      "cell_type": "code",
      "metadata": {
        "colab": {
          "base_uri": "https://localhost:8080/"
        },
        "id": "GsfyI3kdrEbB",
        "outputId": "df5f8b38-a7e1-4d18-fb76-f9421ade4b52"
      },
      "source": [
        "#compute outer product of vectors\n",
        "v = np.array([1,2,3])  # v has shape (3,)\n",
        "w = np.array([4,5])    # w has shape (2,)\n",
        "\n",
        "print(np.reshape(v,(3,1)) * w)"
      ],
      "execution_count": null,
      "outputs": [
        {
          "output_type": "stream",
          "name": "stdout",
          "text": [
            "[[ 4  5]\n",
            " [ 8 10]\n",
            " [12 15]]\n"
          ]
        }
      ]
    },
    {
      "cell_type": "markdown",
      "metadata": {
        "id": "F5E8ekGz1Mwk"
      },
      "source": [
        "#Array Math"
      ]
    },
    {
      "cell_type": "markdown",
      "metadata": {
        "id": "pZJ3QPFL3ny6"
      },
      "source": [
        "Basic mathematical functions operate elementwise on arrays, and are available both as operator overloads and as functions in the numpy module:"
      ]
    },
    {
      "cell_type": "code",
      "metadata": {
        "id": "p-gYiz2k1sRq",
        "colab": {
          "base_uri": "https://localhost:8080/"
        },
        "outputId": "f127e1bb-2906-49be-c45c-c5e1b9e27a9c"
      },
      "source": [
        "x = np.array([[1,2],[3,4]], dtype=np.float64)\n",
        "y = np.array([[5,6],[7,8]], dtype=np.float64)\n",
        "# Elementwise sum; both produce the array\n",
        "print(x + y)\n",
        "print(np.add(x,y))"
      ],
      "execution_count": null,
      "outputs": [
        {
          "output_type": "stream",
          "name": "stdout",
          "text": [
            "[[ 6.  8.]\n",
            " [10. 12.]]\n",
            "[[ 6.  8.]\n",
            " [10. 12.]]\n"
          ]
        }
      ]
    },
    {
      "cell_type": "code",
      "metadata": {
        "colab": {
          "base_uri": "https://localhost:8080/"
        },
        "id": "iH5D5cmZr70u",
        "outputId": "5bb55414-a708-45b6-cd60-8e1ec59ceee1"
      },
      "source": [
        "# Elementwise difference; both produce the array\n",
        "print(x-y)\n",
        "print(np.subtract(x,y))"
      ],
      "execution_count": null,
      "outputs": [
        {
          "output_type": "stream",
          "name": "stdout",
          "text": [
            "[[-4. -4.]\n",
            " [-4. -4.]]\n",
            "[[-4. -4.]\n",
            " [-4. -4.]]\n"
          ]
        }
      ]
    },
    {
      "cell_type": "code",
      "metadata": {
        "colab": {
          "base_uri": "https://localhost:8080/"
        },
        "id": "06e9GdS6sMBw",
        "outputId": "4c596d7f-e5d6-44ac-8033-5fb7bb343703"
      },
      "source": [
        "# Elementwise product; both produce the array\n",
        "print(x * y)\n",
        "print(np.multiply(x, y))"
      ],
      "execution_count": null,
      "outputs": [
        {
          "output_type": "stream",
          "name": "stdout",
          "text": [
            "[[ 5. 12.]\n",
            " [21. 32.]]\n",
            "[[ 5. 12.]\n",
            " [21. 32.]]\n"
          ]
        }
      ]
    },
    {
      "cell_type": "code",
      "metadata": {
        "colab": {
          "base_uri": "https://localhost:8080/"
        },
        "id": "0zFcrejusSa9",
        "outputId": "2ba694f3-2a6e-4dec-8f4e-e001f5cdc035"
      },
      "source": [
        "print(np.sqrt(x))"
      ],
      "execution_count": null,
      "outputs": [
        {
          "output_type": "stream",
          "name": "stdout",
          "text": [
            "[[1.         1.41421356]\n",
            " [1.73205081 2.        ]]\n"
          ]
        }
      ]
    },
    {
      "cell_type": "markdown",
      "metadata": {
        "id": "Hih1O5_zspRV"
      },
      "source": [
        "Note that unlike MATLAB, * is elementwise multiplication, not matrix multiplication. We instead use the dot function to compute inner products of vectors, to multiply a vector by a matrix, and to multiply matrices. dot is available both as a function in the numpy module and as an instance method of array objects:"
      ]
    },
    {
      "cell_type": "code",
      "metadata": {
        "id": "QTSbRGPosqaV"
      },
      "source": [
        "x = np.array([[1,2],[3,4]])\n",
        "y = np.array([[5,6],[7,8]])\n",
        "\n",
        "v = np.array([9,10])\n",
        "w = np.array([11, 12])"
      ],
      "execution_count": null,
      "outputs": []
    },
    {
      "cell_type": "code",
      "metadata": {
        "colab": {
          "base_uri": "https://localhost:8080/"
        },
        "id": "9nZM7jaZs2gZ",
        "outputId": "a3ce67ca-bb16-4ca1-f7d5-6b99d3490dcd"
      },
      "source": [
        "print(np.dot(v,w))\n",
        "print(v.dot(w))"
      ],
      "execution_count": null,
      "outputs": [
        {
          "output_type": "stream",
          "name": "stdout",
          "text": [
            "219\n",
            "219\n"
          ]
        }
      ]
    },
    {
      "cell_type": "code",
      "metadata": {
        "colab": {
          "base_uri": "https://localhost:8080/"
        },
        "id": "rtMPhOKetINp",
        "outputId": "49c24a1b-8aca-4b68-d3f4-15a3a9570f20"
      },
      "source": [
        "print(v @ w)"
      ],
      "execution_count": null,
      "outputs": [
        {
          "output_type": "stream",
          "name": "stdout",
          "text": [
            "219\n"
          ]
        }
      ]
    },
    {
      "cell_type": "code",
      "metadata": {
        "colab": {
          "base_uri": "https://localhost:8080/"
        },
        "id": "GHViAcOAtTs0",
        "outputId": "e816b2a1-14c6-47e0-de7f-35d5887ec69d"
      },
      "source": [
        "# matrix, vector product\n",
        "print(np.dot(x, v))\n",
        "print(x.dot(v))\n",
        "print(x @ v)"
      ],
      "execution_count": null,
      "outputs": [
        {
          "output_type": "stream",
          "name": "stdout",
          "text": [
            "[29 67]\n",
            "[29 67]\n",
            "[29 67]\n"
          ]
        }
      ]
    },
    {
      "cell_type": "code",
      "metadata": {
        "colab": {
          "base_uri": "https://localhost:8080/"
        },
        "id": "D1WFf3VxtvzU",
        "outputId": "8cc24a9e-9566-4331-d644-959fbeba568d"
      },
      "source": [
        "#matrix, matrix product\n",
        "print(np.dot(x,y))\n",
        "print()\n",
        "print(x.dot(y))\n",
        "print()\n",
        "print(x @ y)"
      ],
      "execution_count": null,
      "outputs": [
        {
          "output_type": "stream",
          "name": "stdout",
          "text": [
            "[[19 22]\n",
            " [43 50]]\n",
            "\n",
            "[[19 22]\n",
            " [43 50]]\n",
            "\n",
            "[[19 22]\n",
            " [43 50]]\n"
          ]
        }
      ]
    },
    {
      "cell_type": "code",
      "metadata": {
        "colab": {
          "base_uri": "https://localhost:8080/"
        },
        "id": "iMHq4upyuEA5",
        "outputId": "e46a6e9c-99e6-43ac-d1ac-b58ef0f7a526"
      },
      "source": [
        "x = np.array([[1,2],[3,4]])\n",
        "print(np.sum(x)) # 1+2+3+4"
      ],
      "execution_count": null,
      "outputs": [
        {
          "output_type": "stream",
          "name": "stdout",
          "text": [
            "10\n"
          ]
        }
      ]
    },
    {
      "cell_type": "code",
      "metadata": {
        "colab": {
          "base_uri": "https://localhost:8080/"
        },
        "id": "j32aYI4LuSp2",
        "outputId": "1015f008-5540-4965-8709-379209de5fa3"
      },
      "source": [
        "print(np.sum(x, axis = 0)) # Compute sum of each column;"
      ],
      "execution_count": null,
      "outputs": [
        {
          "output_type": "stream",
          "name": "stdout",
          "text": [
            "[4 6]\n"
          ]
        }
      ]
    },
    {
      "cell_type": "code",
      "metadata": {
        "colab": {
          "base_uri": "https://localhost:8080/"
        },
        "id": "jRl35BMtubsl",
        "outputId": "b546bd2e-e951-4af4-e673-4e2d416d6e33"
      },
      "source": [
        "print(np.sum(x, axis = 1))  # Compute sum of each row"
      ],
      "execution_count": null,
      "outputs": [
        {
          "output_type": "stream",
          "name": "stdout",
          "text": [
            "[3 7]\n"
          ]
        }
      ]
    },
    {
      "cell_type": "code",
      "metadata": {
        "colab": {
          "base_uri": "https://localhost:8080/"
        },
        "id": "icvQXVbxuu_4",
        "outputId": "1478c478-afd4-4668-9b22-f967215eb4bf"
      },
      "source": [
        "print(x)\n",
        "print(\"transpose\\n\", x.T)"
      ],
      "execution_count": null,
      "outputs": [
        {
          "output_type": "stream",
          "name": "stdout",
          "text": [
            "[[1 2]\n",
            " [3 4]]\n",
            "transpose\n",
            " [[1 3]\n",
            " [2 4]]\n"
          ]
        }
      ]
    },
    {
      "cell_type": "code",
      "metadata": {
        "colab": {
          "base_uri": "https://localhost:8080/"
        },
        "id": "SaWcxqneu9bC",
        "outputId": "86a82ce6-4c08-4980-f91d-8e48ac43a995"
      },
      "source": [
        "v = np.array([[1,2,3]])\n",
        "print(v)\n",
        "print(\"transpose\\n\", v.T)"
      ],
      "execution_count": null,
      "outputs": [
        {
          "output_type": "stream",
          "name": "stdout",
          "text": [
            "[[1 2 3]]\n",
            "transpose\n",
            " [[1]\n",
            " [2]\n",
            " [3]]\n"
          ]
        }
      ]
    }
  ]
}